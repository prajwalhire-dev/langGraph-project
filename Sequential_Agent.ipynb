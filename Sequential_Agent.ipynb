{
 "cells": [
  {
   "cell_type": "code",
   "execution_count": 2,
   "id": "94e6d5c0",
   "metadata": {},
   "outputs": [],
   "source": [
    "from typing import TypedDict\n",
    "from langgraph.graph import StateGraph"
   ]
  },
  {
   "cell_type": "code",
   "execution_count": 3,
   "id": "6f7f617c",
   "metadata": {},
   "outputs": [],
   "source": [
    "class AgentState(TypedDict):\n",
    "    \"\"\"\n",
    "    Represents the state of the agent.\n",
    "    \"\"\"\n",
    "    name: str\n",
    "    age: int\n",
    "    final: str"
   ]
  },
  {
   "cell_type": "code",
   "execution_count": 13,
   "id": "8cfda61f",
   "metadata": {},
   "outputs": [],
   "source": [
    "def first_node(state:AgentState) -> AgentState:\n",
    "    \"\"\"\n",
    "    The first node in the state graph.\n",
    "    \"\"\"\n",
    "    state['final'] = f\"Hi {state['name']}!\"\n",
    "    return state\n",
    "def second_node(state:AgentState) -> AgentState:\n",
    "    \"\"\"\n",
    "    The second node in the state graph.\n",
    "    \"\"\"\n",
    "    state['final'] = state['final'] + f\" You are {state['age']} years old.\"\n",
    "    return state"
   ]
  },
  {
   "cell_type": "code",
   "execution_count": 14,
   "id": "9213abb5",
   "metadata": {},
   "outputs": [],
   "source": [
    "graph = StateGraph(AgentState)\n",
    "\n",
    "graph.add_node('first node', first_node)\n",
    "graph.add_node('second node',second_node)\n",
    "\n",
    "graph.set_entry_point('first node')\n",
    "graph.add_edge('first node', 'second node')\n",
    "graph.set_finish_point('second node')\n",
    "\n",
    "app = graph.compile()\n"
   ]
  },
  {
   "cell_type": "code",
   "execution_count": 15,
   "id": "39bd6a17",
   "metadata": {},
   "outputs": [
    {
     "data": {
      "image/png": "[encoded data removed]",
      "text/plain": [
       "<IPython.core.display.Image object>"
      ]
     },
     "metadata": {},
     "output_type": "display_data"
    }
   ],
   "source": [
    "from IPython.display import display, Image\n",
    "display(Image(app.get_graph().draw_mermaid_png()))"
   ]
  },
  {
   "cell_type": "code",
   "execution_count": 16,
   "id": "5e67bca1",
   "metadata": {},
   "outputs": [
    {
     "name": "stdout",
     "output_type": "stream",
     "text": [
      "{'name': 'Shiva', 'age': 'infinite', 'final': 'Hi Shiva! You are infinite years old.'}\n"
     ]
    }
   ],
   "source": [
    "result = app.invoke({'name':'Shiva', 'age':'infinite'})\n",
    "print(result)"
   ]
  },
  {
   "cell_type": "markdown",
   "id": "2f2ae5df",
   "metadata": {},
   "source": [
    "### Exercise for Graph 3"
   ]
  },
  {
   "cell_type": "code",
   "execution_count": 18,
   "id": "3a7d313a",
   "metadata": {},
   "outputs": [],
   "source": [
    "from typing import List"
   ]
  },
  {
   "cell_type": "code",
   "execution_count": 27,
   "id": "efc8b901",
   "metadata": {},
   "outputs": [],
   "source": [
    "class NewAgentState(TypedDict):\n",
    "    name: str\n",
    "    age: int\n",
    "    skills: List[str]\n",
    "    result: str"
   ]
  },
  {
   "cell_type": "code",
   "execution_count": 28,
   "id": "abfa0975",
   "metadata": {},
   "outputs": [],
   "source": [
    "def node_one(state:NewAgentState) -> NewAgentState:\n",
    "    \"\"\"\n",
    "    The first node in the new state graph.\n",
    "    \"\"\"\n",
    "    state['result'] = f\"{state['name']}, welcome to the system!\"\n",
    "    return state\n",
    "\n",
    "def node_two(state:NewAgentState) -> NewAgentState:\n",
    "    \"\"\"\n",
    "    The second node in the new state graph.\n",
    "    \"\"\"\n",
    "    state['result'] += f\" You are {state['age']} years old!\"\n",
    "    return state\n",
    "\n",
    "def node_three(state:NewAgentState) -> NewAgentState:\n",
    "    \"\"\"\n",
    "    The third node in the new state graph.\n",
    "    \"\"\"\n",
    "    state['result'] += f\" You have skills in : {', '.join(state['skills'])}.\"\n",
    "    return state\n",
    "    "
   ]
  },
  {
   "cell_type": "code",
   "execution_count": 29,
   "id": "6ec80e85",
   "metadata": {},
   "outputs": [],
   "source": [
    "graph = StateGraph(NewAgentState)\n",
    "\n",
    "graph.add_node('node one', node_one)\n",
    "graph.add_node('node two', node_two)\n",
    "graph.add_node('node three', node_three)\n",
    "\n",
    "graph.set_entry_point('node one')\n",
    "graph.add_edge('node one', 'node two')\n",
    "graph.add_edge('node two', 'node three')\n",
    "graph.set_finish_point('node three')\n",
    "\n",
    "app = graph.compile()"
   ]
  },
  {
   "cell_type": "code",
   "execution_count": 30,
   "id": "4f883bea",
   "metadata": {},
   "outputs": [
    {
     "data": {
      "image/png": "[encoded data removed]",
      "text/plain": [
       "<IPython.core.display.Image object>"
      ]
     },
     "metadata": {},
     "output_type": "display_data"
    }
   ],
   "source": [
    "from IPython.display import Image, display\n",
    "display(Image(app.get_graph().draw_mermaid_png()))"
   ]
  },
  {
   "cell_type": "code",
   "execution_count": 31,
   "id": "9a651ab5",
   "metadata": {},
   "outputs": [
    {
     "name": "stdout",
     "output_type": "stream",
     "text": [
      "{'name': 'Shiva', 'age': 'infinite', 'skills': ['Omniscience', 'Omnipotence', 'Omnipresence'], 'result': 'Shiva, welcome to the system! You are infinite years old! You have skills in : Omniscience, Omnipotence, Omnipresence.'}\n"
     ]
    }
   ],
   "source": [
    "final_result = app.invoke({\n",
    "    'name': 'Shiva',\n",
    "    'age': 'infinite',\n",
    "    'skills': ['Omniscience', 'Omnipotence', 'Omnipresence']})\n",
    "print(final_result)"
   ]
  },
  {
   "cell_type": "code",
   "execution_count": null,
   "id": "6ae5b80e",
   "metadata": {},
   "outputs": [],
   "source": []
  }
 ],
 "metadata": {
  "kernelspec": {
   "display_name": "venv",
   "language": "python",
   "name": "python3"
  },
  "language_info": {
   "codemirror_mode": {
    "name": "ipython",
    "version": 3
   },
   "file_extension": ".py",
   "mimetype": "text/x-python",
   "name": "python",
   "nbconvert_exporter": "python",
   "pygments_lexer": "ipython3",
   "version": "3.10.6"
  }
 },
 "nbformat": 4,
 "nbformat_minor": 5
}
