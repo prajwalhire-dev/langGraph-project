{
 "cells": [
  {
   "cell_type": "code",
   "execution_count": 5,
   "id": "be684ee4",
   "metadata": {},
   "outputs": [],
   "source": [
    "from typing import TypedDict, List\n",
    "from langgraph.graph import StateGraph, START, END"
   ]
  },
  {
   "cell_type": "code",
   "execution_count": 6,
   "id": "ab7d0110",
   "metadata": {},
   "outputs": [],
   "source": [
    "class AgentState(TypedDict):\n",
    "    number1: int\n",
    "    operation: str\n",
    "    number2: int\n",
    "    finalNumber: int"
   ]
  },
  {
   "cell_type": "code",
   "execution_count": 24,
   "id": "b43d323d",
   "metadata": {},
   "outputs": [],
   "source": [
    "def adder(state: AgentState) -> AgentState:\n",
    "    \"\"\"These agents add two numbers together.\"\"\"\n",
    "\n",
    "    state['finalNumber'] = state['number1'] + state['number2']\n",
    "    return state\n",
    "\n",
    "def subtractor(state: AgentState)->AgentState:\n",
    "    \"\"\"These agents subtract two numbers.\"\"\"\n",
    "\n",
    "    state['finalNumber'] = state['number1'] - state['number2']\n",
    "    return state\n",
    "\n",
    "def decide_next_node(state: AgentState) -> AgentState:\n",
    "    \"\"\"This node will select the next node of the graph\"\"\"\n",
    "    if state['operation'] == '+':\n",
    "        return \"addition_opeartion\" #we will return the edge here\n",
    "    elif state[\"operation\"] == '-':\n",
    "        return \"subtraction_operation\"\n",
    "        "
   ]
  },
  {
   "cell_type": "code",
   "execution_count": 17,
   "id": "056febcb",
   "metadata": {},
   "outputs": [],
   "source": [
    "graph = StateGraph(AgentState)\n",
    "\n",
    "graph.add_node('add_node', adder)\n",
    "graph.add_node('subtract_node', subtractor)\n",
    "graph.add_node('router', lambda state: state) #passthrough function\n",
    "\n",
    "graph.add_edge(START, 'router')\n",
    "graph.add_conditional_edges(\n",
    "    \"router\",\n",
    "    decide_next_node,\n",
    "    {\n",
    "        #Edge : node\n",
    "        \"addition_opeartion\": \"add_node\",\n",
    "        \"subtraction_operation\": \"subtract_node\"\n",
    "    }\n",
    ")\n",
    "\n",
    "graph.add_edge('add_node', END)\n",
    "graph.add_edge('subtract_node', END)\n",
    "\n",
    "app = graph.compile()\n"
   ]
  },
  {
   "cell_type": "code",
   "execution_count": 18,
   "id": "d0da5448",
   "metadata": {},
   "outputs": [
    {
     "data": {
      "image/png": "[encoded data removed]",
      "text/plain": [
       "<IPython.core.display.Image object>"
      ]
     },
     "metadata": {},
     "output_type": "display_data"
    }
   ],
   "source": [
    "from IPython.display import display, Image\n",
    "display(Image(app.get_graph().draw_mermaid_png()))  "
   ]
  },
  {
   "cell_type": "code",
   "execution_count": 19,
   "id": "4b658d9e",
   "metadata": {},
   "outputs": [],
   "source": [
    "initial_state = AgentState(number1=10, operation='-', number2=5)"
   ]
  },
  {
   "cell_type": "code",
   "execution_count": 21,
   "id": "61a03bd6",
   "metadata": {},
   "outputs": [
    {
     "name": "stdout",
     "output_type": "stream",
     "text": [
      "{'number1': 10, 'operation': '-', 'number2': 5, 'finalNumber': 5}\n"
     ]
    }
   ],
   "source": [
    "result = app.invoke(initial_state)\n",
    "print(result)"
   ]
  },
  {
   "cell_type": "markdown",
   "id": "7dd7ba54",
   "metadata": {},
   "source": [
    "### Exercise for Graph 4"
   ]
  },
  {
   "cell_type": "code",
   "execution_count": 22,
   "id": "726b50a3",
   "metadata": {},
   "outputs": [],
   "source": [
    "from typing import TypedDict, List\n",
    "from langgraph.graph import StateGraph, START, END"
   ]
  },
  {
   "cell_type": "code",
   "execution_count": 23,
   "id": "641e4c28",
   "metadata": {},
   "outputs": [],
   "source": [
    "class StateAgent(TypedDict):\n",
    "    number1: int\n",
    "    operation: str\n",
    "    number2: int\n",
    "    finalNumber: int\n",
    "    number3:int\n",
    "    operation2: str\n",
    "    number4: int\n",
    "    finalNumber2: int"
   ]
  },
  {
   "cell_type": "code",
   "execution_count": 28,
   "id": "9b9580bf",
   "metadata": {},
   "outputs": [],
   "source": [
    "def node_one(state:StateAgent) -> StateAgent:\n",
    "    \"\"\"This agent will add two numbers together.\"\"\"\n",
    "    state[finalNumber] = state['number1'] + state['number2']\n",
    "    return state\n",
    "\n",
    "def node_two(state:StateAgent) -> StateAgent:\n",
    "    \"\"\"This agent will subtract two numbers.\"\"\"\n",
    "    state['finalNumber']= state['number1']- state['number2']\n",
    "    return state\n",
    "\n",
    "def decide_next_node1(state: StateAgent) -> StateAgent:\n",
    "    \"\"\"This node will select the next node of the graph\"\"\"\n",
    "    if state['operation'] == '+':\n",
    "        return \"addition_opeartion\" #we will return the edge here\n",
    "    elif state[\"operation\"] == '-':\n",
    "        return \"subtraction_operation\"\n",
    "\n",
    "def node_three(state:StateAgent) -> StateAgent:\n",
    "    \"\"\"This agent will add two numbers together.\"\"\"\n",
    "    state['finalNumber2'] = state['number3']+state['number4']\n",
    "    return state\n",
    "\n",
    "def node_four(state:StateAgent) -> StateAgent:\n",
    "    \"\"\"This agent will subtract two numbers.\"\"\"\n",
    "    state['finalNumber2'] = state['number3'] - state['numeber4']\n",
    "    return state\n",
    "\n",
    "def decide_next_node2(state: StateAgent) -> StateAgent:\n",
    "    \"\"\"This node will select the next node of the graph\"\"\"\n",
    "    if state['operation2'] == '+':\n",
    "        return \"addition_opeartion2\" #we will return the edge here\n",
    "    elif state[\"operation2\"] == '-':\n",
    "        return \"subtraction_operation2\""
   ]
  },
  {
   "cell_type": "code",
   "execution_count": 30,
   "id": "4edc5f5d",
   "metadata": {},
   "outputs": [],
   "source": [
    "\n",
    "graph = StateGraph(StateAgent)\n",
    "\n",
    "graph.add_node('node_one', node_one)\n",
    "graph.add_node('node_two', node_two)\n",
    "graph.add_node('router1', lambda state: state)\n",
    "\n",
    "graph.add_conditional_edges(\n",
    "    'router1',\n",
    "    decide_next_node1,\n",
    "    {\n",
    "        \"addition_opeartion\": \"node_one\",\n",
    "        \"subtraction_operation\": \"node_two\"\n",
    "        }\n",
    ")\n",
    "\n",
    "graph.add_edge(START, 'router1')\n",
    "\n",
    "graph.add_node('node_three', node_three)\n",
    "graph.add_node('node_four', node_four)\n",
    "graph.add_node('router2', lambda state: state)\n",
    "\n",
    "graph.add_conditional_edges(\n",
    "    'router2',\n",
    "    decide_next_node2,\n",
    "    {\n",
    "        \"addition_opeartion2\": \"node_three\",\n",
    "        \"subtraction_operation2\": \"node_four\"\n",
    "    }\n",
    ")\n",
    "\n",
    "graph.add_edge('node_one', 'router2')\n",
    "graph.add_edge('node_two', 'router2')\n",
    "\n",
    "graph.add_edge('node_three', END)\n",
    "graph.add_edge('node_four', END)\n",
    "\n",
    "app = graph.compile()\n",
    "\n"
   ]
  },
  {
   "cell_type": "code",
   "execution_count": 32,
   "id": "79fafd89",
   "metadata": {},
   "outputs": [
    {
     "data": {
      "image/png": "[encoded data removed]",
      "text/plain": [
       "<IPython.core.display.Image object>"
      ]
     },
     "metadata": {},
     "output_type": "display_data"
    }
   ],
   "source": [
    "# Display the graph for the new app\n",
    "from IPython.display import display, Image\n",
    "display(Image(app.get_graph().draw_mermaid_png()))"
   ]
  },
  {
   "cell_type": "code",
   "execution_count": 35,
   "id": "cb41ec78",
   "metadata": {},
   "outputs": [
    {
     "name": "stdout",
     "output_type": "stream",
     "text": [
      "{'number1': 10, 'operation': '-', 'number2': 5, 'finalNumber': 5, 'number3': 20, 'operation2': '+', 'number4': 15, 'finalNumber2': 35}\n"
     ]
    }
   ],
   "source": [
    "result = app.invoke({\n",
    "    'number1': 10,\n",
    "    'operation': '-',\n",
    "    'number2': 5,\n",
    "    'number3': 20,\n",
    "    'operation2': '+',\n",
    "    'number4': 15\n",
    "})\n",
    "print(result)\n"
   ]
  },
  {
   "cell_type": "code",
   "execution_count": null,
   "id": "6a3f6200",
   "metadata": {},
   "outputs": [],
   "source": []
  }
 ],
 "metadata": {
  "kernelspec": {
   "display_name": "venv",
   "language": "python",
   "name": "python3"
  },
  "language_info": {
   "codemirror_mode": {
    "name": "ipython",
    "version": 3
   },
   "file_extension": ".py",
   "mimetype": "text/x-python",
   "name": "python",
   "nbconvert_exporter": "python",
   "pygments_lexer": "ipython3",
   "version": "3.10.6"
  }
 },
 "nbformat": 4,
 "nbformat_minor": 5
}
