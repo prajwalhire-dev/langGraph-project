{
 "cells": [
  {
   "cell_type": "code",
   "execution_count": 1,
   "id": "8cf0a54d",
   "metadata": {},
   "outputs": [],
   "source": [
    "from typing import TypedDict, List\n",
    "from langgraph.graph import StateGraph"
   ]
  },
  {
   "cell_type": "code",
   "execution_count": null,
   "id": "27e67c97",
   "metadata": {},
   "outputs": [],
   "source": [
    "class AgentState(TypedDict):\n",
    "    values: List[int]\n",
    "    name: str\n",
    "    result: str\n"
   ]
  },
  {
   "cell_type": "code",
   "execution_count": 9,
   "id": "89e79f41",
   "metadata": {},
   "outputs": [],
   "source": [
    "def process_values(state: AgentState) -> AgentState:\n",
    "    print(state)\n",
    "    state['result'] = f\"Hi there {state['name']}!, tour sum = {sum(state['values'])}\"\n",
    "    print(state)\n",
    "    return state\n"
   ]
  },
  {
   "cell_type": "code",
   "execution_count": 10,
   "id": "794978ce",
   "metadata": {},
   "outputs": [],
   "source": [
    "graph = StateGraph(AgentState)\n",
    "\n",
    "graph.add_node('processor', process_values)\n",
    "graph.set_entry_point('processor')\n",
    "graph.set_finish_point('processor')\n",
    "\n",
    "app = graph.compile() #compile the graph\n"
   ]
  },
  {
   "cell_type": "code",
   "execution_count": 11,
   "id": "a6b2e7f6",
   "metadata": {},
   "outputs": [
    {
     "data": {
      "image/png": "[encoded data removed]",
      "text/plain": [
       "<IPython.core.display.Image object>"
      ]
     },
     "metadata": {},
     "output_type": "display_data"
    }
   ],
   "source": [
    "from IPython.display import Image, display\n",
    "display(Image(app.get_graph().draw_mermaid_png()))"
   ]
  },
  {
   "cell_type": "code",
   "execution_count": 12,
   "id": "bea7e90e",
   "metadata": {},
   "outputs": [
    {
     "name": "stdout",
     "output_type": "stream",
     "text": [
      "{'values': [1, 2, 3, 4], 'name': 'Govinda'}\n",
      "{'values': [1, 2, 3, 4], 'name': 'Govinda', 'result': 'Hi there Govinda!, tour sum = 10'}\n"
     ]
    }
   ],
   "source": [
    "answers = app.invoke({\"values\":[1,2,3,4], \"name\":'Govinda'})"
   ]
  },
  {
   "cell_type": "code",
   "execution_count": 13,
   "id": "693e0447",
   "metadata": {},
   "outputs": [
    {
     "name": "stdout",
     "output_type": "stream",
     "text": [
      "Hi there Govinda!, tour sum = 10\n"
     ]
    }
   ],
   "source": [
    "print(answers['result'])  # Output: Hi there Govinda!, tour sum = 10"
   ]
  },
  {
   "cell_type": "markdown",
   "id": "7df2cab0",
   "metadata": {},
   "source": [
    "### Assignment for Graph 2"
   ]
  },
  {
   "cell_type": "code",
   "execution_count": 14,
   "id": "8bc28f50",
   "metadata": {},
   "outputs": [],
   "source": [
    "from typing import TypedDict, List\n",
    "from langgraph.graph import StateGraph"
   ]
  },
  {
   "cell_type": "code",
   "execution_count": 26,
   "id": "c85efe99",
   "metadata": {},
   "outputs": [],
   "source": [
    "class GivenAgentState(TypedDict):\n",
    "    name: str\n",
    "    values: List[int]\n",
    "    operations: str\n",
    "    result: str\n"
   ]
  },
  {
   "cell_type": "code",
   "execution_count": 17,
   "id": "f2541229",
   "metadata": {},
   "outputs": [
    {
     "name": "stdout",
     "output_type": "stream",
     "text": [
      "Collecting numpy\n",
      "  Using cached numpy-2.2.6-cp310-cp310-macosx_14_0_arm64.whl (5.3 MB)\n",
      "Installing collected packages: numpy\n",
      "Successfully installed numpy-2.2.6\n",
      "\n",
      "\u001b[1m[\u001b[0m\u001b[34;49mnotice\u001b[0m\u001b[1;39;49m]\u001b[0m\u001b[39;49m A new release of pip available: \u001b[0m\u001b[31;49m22.2.1\u001b[0m\u001b[39;49m -> \u001b[0m\u001b[32;49m25.1.1\u001b[0m\n",
      "\u001b[1m[\u001b[0m\u001b[34;49mnotice\u001b[0m\u001b[1;39;49m]\u001b[0m\u001b[39;49m To update, run: \u001b[0m\u001b[32;49mpip install --upgrade pip\u001b[0m\n"
     ]
    }
   ],
   "source": [
    "!pip install numpy"
   ]
  },
  {
   "cell_type": "code",
   "execution_count": 27,
   "id": "7f20d432",
   "metadata": {},
   "outputs": [],
   "source": [
    "import numpy as np\n",
    "def do_desired(state:GivenAgentState) -> GivenAgentState:\n",
    "    print(state)\n",
    "    if state['operations'] == '+':\n",
    "        state['result'] = f\"Hi {state['name']}, your answer is {sum(state['values'])}\"\n",
    "    elif state['operations'] == '*':\n",
    "        state['result'] = f\"Hi {state['name']}, your answer is {np.prod(state['values'])}\"\n",
    "    return state\n"
   ]
  },
  {
   "cell_type": "code",
   "execution_count": 28,
   "id": "f1d84345",
   "metadata": {},
   "outputs": [],
   "source": [
    "graph = StateGraph(GivenAgentState)\n",
    "\n",
    "graph.add_node('desired', do_desired)\n",
    "\n",
    "graph.set_entry_point('desired')\n",
    "graph.set_finish_point('desired')\n",
    "\n",
    "app = graph.compile()  # compile the graph"
   ]
  },
  {
   "cell_type": "code",
   "execution_count": 29,
   "id": "338cff38",
   "metadata": {},
   "outputs": [
    {
     "data": {
      "image/png": "[encoded data removed]",
      "text/plain": [
       "<IPython.core.display.Image object>"
      ]
     },
     "metadata": {},
     "output_type": "display_data"
    }
   ],
   "source": [
    "# Display the graph for the new app\n",
    "from IPython.display import Image, display\n",
    "display(Image(app.get_graph().draw_mermaid_png()))"
   ]
  },
  {
   "cell_type": "code",
   "execution_count": 30,
   "id": "b592269f",
   "metadata": {},
   "outputs": [
    {
     "name": "stdout",
     "output_type": "stream",
     "text": [
      "{'name': 'Krishna', 'values': [10, 20, 30], 'operations': '+'}\n"
     ]
    }
   ],
   "source": [
    "results = app.invoke({'name':'Krishna','values':[10,20,30], 'operations':'+'})"
   ]
  },
  {
   "cell_type": "code",
   "execution_count": 31,
   "id": "ff6c8670",
   "metadata": {},
   "outputs": [
    {
     "name": "stdout",
     "output_type": "stream",
     "text": [
      "Hi Krishna, your answer is 60\n"
     ]
    }
   ],
   "source": [
    "print(results['result'])  # Output: Hi Krishna, your answer is 60"
   ]
  },
  {
   "cell_type": "code",
   "execution_count": null,
   "id": "d42628f8",
   "metadata": {},
   "outputs": [],
   "source": []
  }
 ],
 "metadata": {
  "kernelspec": {
   "display_name": "venv",
   "language": "python",
   "name": "python3"
  },
  "language_info": {
   "codemirror_mode": {
    "name": "ipython",
    "version": 3
   },
   "file_extension": ".py",
   "mimetype": "text/x-python",
   "name": "python",
   "nbconvert_exporter": "python",
   "pygments_lexer": "ipython3",
   "version": "3.10.6"
  }
 },
 "nbformat": 4,
 "nbformat_minor": 5
}
